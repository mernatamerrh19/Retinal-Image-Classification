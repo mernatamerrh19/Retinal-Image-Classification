{
  "cells": [
    {
      "cell_type": "markdown",
      "source": [
        "Team\n",
        "\n",
        "> Merna Tamer   -   Kareem Sobhi   -   Youssef Osama"
      ],
      "metadata": {
        "id": "5Kp33sNx6rtz"
      }
    },
    {
      "cell_type": "markdown",
      "metadata": {
        "id": "3fH06vIwJlz7"
      },
      "source": [
        "#Packages used"
      ]
    },
    {
      "cell_type": "code",
      "execution_count": 1,
      "metadata": {
        "id": "GnODn8b7obva"
      },
      "outputs": [],
      "source": [
        "import numpy as np # linear algebra\n",
        "import pandas as pd # data processing, CSV file I/O (e.g. pd.read_csv)\n",
        "import seaborn as sns\n",
        "import matplotlib.pyplot as plt\n",
        "from sklearn.metrics import roc_curve, roc_auc_score\n",
        "from sklearn.metrics import confusion_matrix ,classification_report,precision_score, recall_score ,f1_score,auc \n",
        "from sklearn.svm import SVC \n",
        "import plotly.express as px\n",
        "from sklearn.feature_selection import VarianceThreshold\n",
        "from sklearn.feature_selection import SelectKBest\n",
        "from sklearn.feature_selection import mutual_info_classif\n",
        "from sklearn.model_selection import train_test_split\n",
        "from sklearn.metrics import confusion_matrix\n",
        "from sklearn.metrics import mean_squared_error\n",
        "import statsmodels.api as sm\n",
        "import warnings\n",
        "from sklearn.model_selection import cross_val_score, KFold\n",
        "import matplotlib.cm as mcm\n",
        "import operator as o\n",
        "warnings.filterwarnings('ignore')\n",
        "import PIL\n",
        "from PIL import Image\n",
        "import requests\n",
        "import os\n",
        "from os import listdir\n",
        "from os.path import isfile, join\n",
        "from google.colab import files\n",
        "from google.colab import drive\n",
        "from keras.preprocessing.image import ImageDataGenerator\n",
        "from tensorflow.keras.applications import ResNet152V2\n",
        "from tensorflow.keras.preprocessing.image import ImageDataGenerator\n",
        "from tensorflow.keras.models import Model\n",
        "from tensorflow.keras.preprocessing.image import load_img, img_to_array\n",
        "import pywt\n",
        "import cv2\n",
        "from pydrive.drive import GoogleDrive\n",
        "from pydrive.auth import GoogleAuth\n",
        "from sklearn.metrics import confusion_matrix, recall_score, f1_score, accuracy_score, roc_auc_score\n",
        "from sklearn.preprocessing import normalize"
      ]
    },
    {
      "cell_type": "markdown",
      "metadata": {
        "id": "CdxnaHRfJdP6"
      },
      "source": [
        "#Data Loading"
      ]
    },
    {
      "cell_type": "code",
      "source": [
        "from google.colab import drive\n",
        "drive.mount('/content/drive')"
      ],
      "metadata": {
        "id": "ocsg2c0Ds5jX",
        "colab": {
          "base_uri": "https://localhost:8080/"
        },
        "outputId": "844c1de3-bd7b-46a1-cf59-11d19d899017"
      },
      "execution_count": 3,
      "outputs": [
        {
          "output_type": "stream",
          "name": "stdout",
          "text": [
            "Mounted at /content/drive\n"
          ]
        }
      ]
    },
    {
      "cell_type": "markdown",
      "source": [
        "##LOAD DATA & PREPROCESSING"
      ],
      "metadata": {
        "id": "ZOM2YJl630c7"
      }
    },
    {
      "cell_type": "code",
      "source": [
        "data__drusen_dir='/content/drive/MyDrive/Image-Retinal Classification/Drusen'\n",
        "data_dir_root='/content/drive/MyDrive/Image-Retinal Classification/'\n",
        "data_dir=[data_dir_root+'Drusen',data_dir_root+'Exudate',data_dir_root+'Normal']\n",
        "new_size = (224, 224)\n",
        "\n",
        "processed_images_drusen=[]\n",
        "processed_images_exudate=[]\n",
        "processed_images_normal=[]\n",
        "directory=0\n",
        "for dir in data_dir:\n",
        "  processed_images=[]\n",
        "  i=0\n",
        "  directory+=1\n",
        "  for filename in os.listdir(dir):\n",
        "        image = Image.open(os.path.join(dir, filename))\n",
        "        # Resize the image with bilinear interpolation\n",
        "        resized_image = image.resize(new_size, resample=Image.BILINEAR)\n",
        "\n",
        "        # turn the image into an array\n",
        "        image_array = np.array(resized_image)\n",
        "\n",
        "        # split the image into the three channels R,G,B\n",
        "        red_channel = image_array[:,:,0]\n",
        "        green_channel = image_array[:,:,1]\n",
        "        blue_channel = image_array[:,:,2]\n",
        "\n",
        "        # normalize the green channel using standardization\n",
        "        mean = np.mean(green_channel)\n",
        "        std = np.std(green_channel)\n",
        "        normalized= (green_channel- mean) / std\n",
        "\n",
        "        # rescale the image intensities to 0-255 \n",
        "        scaled = 255 * (normalized - np.min(normalized)) / (np.max(normalized) - np.min(normalized))\n",
        "        image_array[:,:,1] = scaled\n",
        "        preprocessed_image = Image.fromarray(image_array)\n",
        "        if directory==1:\n",
        "          i=i+1\n",
        "          new_filename = str(i) + '_processed.jpg'\n",
        "          preprocessed_image.save(os.path.join('/content/drive/MyDrive/Image-Retinal Classification/Processed/drusen', new_filename))\n",
        "        elif directory ==2:\n",
        "          i=i+1\n",
        "          new_filename = str(i) + '_processed.jpg'\n",
        "          preprocessed_image.save(os.path.join('/content/drive/MyDrive/Image-Retinal Classification/Processed/exudate', new_filename))\n",
        "        elif directory ==3:\n",
        "          i=i+1\n",
        "          new_filename = str(i) + '_processed.jpg'\n",
        "          preprocessed_image.save(os.path.join('/content/drive/MyDrive/Image-Retinal Classification/Processed/normal', new_filename))\n",
        "\n",
        "      # processed_images.append(preprocessed_image)\n",
        "\n",
        "# print('Number of images in each class')\n",
        "# print(\"Drusen: \"+ str(len(processed_images_drusen) ))\n",
        "# print(\"Exudate: \"+ str(len(processed_images_exudate) ))\n",
        "# print(\"Normal: \"+ str(len(processed_images_normal) ))"
      ],
      "metadata": {
        "id": "EF71hziMP0ZD"
      },
      "execution_count": 4,
      "outputs": []
    },
    {
      "cell_type": "code",
      "source": [
        "#Read processed classified images\n",
        "data_generator = ImageDataGenerator()\n",
        "data_dir='/content/drive/MyDrive/Image-Retinal Classification/Processed'\n",
        "data=data_generator.flow_from_directory(data_dir)\n",
        "\n",
        "# data = data_generator.flow((processed_images_drusen))"
      ],
      "metadata": {
        "id": "3PvqzDtqtAaJ",
        "colab": {
          "base_uri": "https://localhost:8080/"
        },
        "outputId": "c80869b8-5098-4cd7-fd6e-4b1c3100a409"
      },
      "execution_count": 5,
      "outputs": [
        {
          "output_type": "stream",
          "name": "stdout",
          "text": [
            "Found 172 images belonging to 3 classes.\n"
          ]
        }
      ]
    },
    {
      "cell_type": "code",
      "source": [
        "#Load a pre-trained ResNet152V2 model\n",
        "base_model = ResNet152V2 (weights='imagenet', include_top=False)\n",
        " # Generate features and labels from the training images\n",
        "train_features= base_model.predict(data , steps=len(data),verbose=1)\n",
        "\n",
        "\n",
        " # Save the features and labels to numpy arrays\n",
        "np.save('/content/drive/MyDrive/Image-Retinal Classification/Processed/features.npy', train_features)\n",
        "np.save('/content/drive/MyDrive/Image-Retinal Classification/Processed/labels.npy', data.classes)\n",
        "\n"
      ],
      "metadata": {
        "id": "D6AYZn77qMtQ",
        "colab": {
          "base_uri": "https://localhost:8080/"
        },
        "outputId": "8d0eccf5-e4ba-4f0a-f923-8cf12b42c7dd"
      },
      "execution_count": 6,
      "outputs": [
        {
          "output_type": "stream",
          "name": "stdout",
          "text": [
            "Downloading data from https://storage.googleapis.com/tensorflow/keras-applications/resnet/resnet152v2_weights_tf_dim_ordering_tf_kernels_notop.h5\n",
            "234545216/234545216 [==============================] - 2s 0us/step\n",
            "6/6 [==============================] - 128s 20s/step\n"
          ]
        }
      ]
    },
    {
      "cell_type": "code",
      "source": [
        "features= np.load('/content/drive/MyDrive/Image-Retinal Classification/Processed/features.npy')\n",
        "labels=np.load('/content/drive/MyDrive/Image-Retinal Classification/Processed/labels.npy')"
      ],
      "metadata": {
        "id": "7RT8nExTfcyp"
      },
      "execution_count": 7,
      "outputs": []
    },
    {
      "cell_type": "code",
      "source": [
        "features_train, features_test, labels_train, labels_test = train_test_split(features,labels, test_size= 0.4 ,random_state=41)"
      ],
      "metadata": {
        "id": "x8QharXsgEdS"
      },
      "execution_count": 69,
      "outputs": []
    },
    {
      "cell_type": "markdown",
      "metadata": {
        "id": "hQ_acNiAKzUz"
      },
      "source": [
        "#SVM Model"
      ]
    },
    {
      "cell_type": "code",
      "source": [
        "# Flatten the features into one-dimensional vectors\n",
        "features_train = features_train.reshape(features_train.shape[0], -1)\n",
        "features_test = features_test.reshape(features_test.shape[0], -1)\n",
        "\n",
        "# Train an SVM classifier on the flattened features\n",
        "clf = SVC(kernel='poly', C=1.4, degree=3, gamma='scale', coef0=220.0)\n",
        "clf.fit(features_train, labels_train)\n",
        "\n",
        "\n",
        "class_names = ['Drusen', 'Exudate', 'Normal', ...] \n",
        "predicted_class_name=[]\n",
        "# Classify the image using the SVM classifier\n",
        "for i in range(0, len(features_test)):\n",
        "    predicted_label = clf.predict(features_test)[i]\n",
        "    predicted_class_name.append(predicted_label)\n",
        "\n",
        "# Output the classification result   \n",
        "print(predicted_class_name)\n",
        "print(labels_test)"
      ],
      "metadata": {
        "id": "e2wdLbGc_rGR",
        "colab": {
          "base_uri": "https://localhost:8080/"
        },
        "outputId": "ed31997e-8804-4d78-ca55-9c470d84b126"
      },
      "execution_count": 70,
      "outputs": [
        {
          "output_type": "stream",
          "name": "stdout",
          "text": [
            "[0, 0, 1, 2, 1, 1, 0, 0, 0, 1, 0, 0, 0, 1, 0, 1, 0, 0, 0, 1, 1, 1, 1, 0, 0, 0, 0, 0, 0, 0, 1, 1, 2, 2, 0, 1, 2, 1, 2, 0, 1, 0, 1, 2, 1, 0, 0, 1, 1, 0, 2, 1, 2, 2, 1, 1, 0, 1, 0, 0, 1, 1, 2, 0, 1, 1, 1, 0, 0]\n",
            "[2 1 0 2 2 2 1 0 2 2 2 0 2 1 0 0 2 1 2 0 1 1 2 1 0 0 2 1 0 1 0 1 2 1 0 1 2\n",
            " 0 0 1 1 1 0 2 0 2 1 2 1 0 1 1 1 2 0 2 2 1 0 2 0 1 2 2 0 0 0 2 2]\n"
          ]
        }
      ]
    },
    {
      "cell_type": "code",
      "source": [
        "cm = confusion_matrix(labels_test, predicted_class_name)\n",
        "print(cm)"
      ],
      "metadata": {
        "id": "W2u-YlopBrbZ",
        "colab": {
          "base_uri": "https://localhost:8080/"
        },
        "outputId": "250ad165-2169-4c35-9422-b44b6ab7ab5b"
      },
      "execution_count": 71,
      "outputs": [
        {
          "output_type": "stream",
          "name": "stdout",
          "text": [
            "[[ 9 12  1]\n",
            " [ 9 10  3]\n",
            " [13  6  6]]\n"
          ]
        }
      ]
    },
    {
      "cell_type": "code",
      "source": [
        "# Compute the confusion matrix\n",
        "sns.heatmap(cm, annot=True, cmap=\"YlGnBu\")\n",
        "# Set labels for the axes\n",
        "plt.title(\"Confusion Matrix Heatmap\")\n",
        "plt.xlabel(\"Predicted labels\")\n",
        "plt.ylabel(\"True labels\")\n",
        "plt.show()"
      ],
      "metadata": {
        "id": "2HM73QPpB6Tx",
        "colab": {
          "base_uri": "https://localhost:8080/",
          "height": 472
        },
        "outputId": "2c1f15be-c648-4527-becd-86f59c406259"
      },
      "execution_count": 72,
      "outputs": [
        {
          "output_type": "display_data",
          "data": {
            "text/plain": [
              "<Figure size 640x480 with 2 Axes>"
            ],
            "image/png": "[encoded data removed]"
          },
          "metadata": {}
        }
      ]
    },
    {
      "cell_type": "code",
      "source": [
        "sensitivity = recall_score(labels_test, predicted_class_name, average='macro')\n",
        "\n",
        "# Extract the true negatives (TN) and false positives (FP) for each class\n",
        "tnr_drusen = np.sum(cm[1:, 1:])\n",
        "fpr_drusen = np.sum(cm[1:, 0])   \n",
        "tnr_exudate = np.sum(np.vstack((cm[0, 0], cm[2, 2])))  \n",
        "fpr_exudate = np.sum(np.hstack((cm[0, 1:], cm[2, :2])))  \n",
        "tnr_normal = np.sum(cm[:2, :2]) \n",
        "fpr_normal = np.sum(np.hstack((cm[:2, 2], cm[2, 0:2]))) "
      ],
      "metadata": {
        "id": "aBHviQVYD-8K"
      },
      "execution_count": 73,
      "outputs": []
    },
    {
      "cell_type": "code",
      "source": [
        "# Calculate the specificity for each class\n",
        "spec_drusen = tnr_drusen / (tnr_drusen + fpr_drusen)\n",
        "spec_exudate = tnr_exudate / (tnr_exudate + fpr_exudate)\n",
        "spec_normal = tnr_normal / (tnr_normal + fpr_normal)\n",
        "\n",
        "# Calculate the accuracy score\n",
        "accuracy = accuracy_score(labels_test, predicted_class_name)\n",
        "\n",
        "# Calculate the F-score\n",
        "f_score = f1_score(labels_test, predicted_class_name, average='weighted')\n",
        "\n",
        "# Calculate the AUC score\n",
        "y_test = np.reshape(labels_test, (-1, 1))\n",
        "y_pred = np.reshape(predicted_class_name, (-1, 1))\n",
        "y_pred = normalize(y_pred, axis=1, norm='l1')\n",
        "y_test = normalize(y_test, axis=1, norm='l1')\n",
        "\n",
        "auc_score = roc_auc_score(y_test, y_pred)\n",
        "\n",
        "print(\"Sensitivity: \"+str(round(sensitivity,ndigits=2)))\n",
        "print(\"Specificity for  Drusen: \" + str(round(spec_drusen,ndigits=2)))\n",
        "print(\"Specificity for  Exudate: \"+str(round(spec_exudate,ndigits=2)))\n",
        "print(\"Specificity for  Normal: \"+str(round(spec_normal,ndigits=2)))\n",
        "print(\"Accuracy: \"+ str(round(accuracy,ndigits=2)))\n",
        "print(\"F-score: \"+ str(round(f_score, ndigits=2)))\n",
        "print(\"AUC: \" + str(round(auc_score, ndigits= 4)))"
      ],
      "metadata": {
        "id": "TIr1icKsFs50",
        "colab": {
          "base_uri": "https://localhost:8080/"
        },
        "outputId": "ec77194e-034a-4ff7-f62b-66e713949c6d"
      },
      "execution_count": 74,
      "outputs": [
        {
          "output_type": "stream",
          "name": "stdout",
          "text": [
            "Sensitivity: 0.37\n",
            "Specificity for  Drusen: 0.53\n",
            "Specificity for  Exudate: 0.32\n",
            "Specificity for  Normal: 0.63\n",
            "Accuracy: 0.36\n",
            "F-score: 0.36\n",
            "AUC: 0.4705\n"
          ]
        }
      ]
    }
  ],
  "metadata": {
    "colab": {
      "provenance": [],
      "gpuType": "T4"
    },
    "kernelspec": {
      "display_name": "Python 3",
      "name": "python3"
    },
    "language_info": {
      "name": "python"
    },
    "gpuClass": "standard"
  },
  "nbformat": 4,
  "nbformat_minor": 0
}